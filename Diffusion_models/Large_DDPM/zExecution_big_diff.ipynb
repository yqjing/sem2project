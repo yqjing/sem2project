{
 "cells": [
  {
   "cell_type": "code",
   "execution_count": 3,
   "id": "indoor-penalty",
   "metadata": {},
   "outputs": [
    {
     "name": "stdout",
     "output_type": "stream",
     "text": [
      "Traceback (most recent call last):\n",
      "  File \"/home/research/yuqijing/sem2project/pytorch_diffusion/pytorch_diffusion/diffusion.py\", line 4, in <module>\n",
      "    from pytorch_diffusion.model import Model\n",
      "ModuleNotFoundError: No module named 'pytorch_diffusion'\n"
     ]
    }
   ],
   "source": [
    "!python3 pytorch_diffusion/diffusion.py cifar10 25 1"
   ]
  },
  {
   "cell_type": "code",
   "execution_count": 12,
   "id": "outer-galaxy",
   "metadata": {},
   "outputs": [
    {
     "name": "stdout",
     "output_type": "stream",
     "text": [
      "Instantiating\n",
      "Loading checkpoint /home/research/yuqijing/.cache/diffusion_models_converted/diffusion_cifar10_model/model-790000.ckpt\n",
      "Moved model to cuda\n"
     ]
    }
   ],
   "source": [
    "from pytorch_diffusion import Diffusion\n",
    "\n",
    "diffusion = Diffusion.from_pretrained(\"cifar10\")\n",
    "samples = diffusion.denoise(25)\n",
    "# diffusion.save(samples, \"lsun_church_sample_{:02}.png\")"
   ]
  },
  {
   "cell_type": "code",
   "execution_count": 13,
   "id": "eleven-shopper",
   "metadata": {},
   "outputs": [
    {
     "name": "stdout",
     "output_type": "stream",
     "text": [
      "torch.Size([25, 3, 32, 32])\n"
     ]
    }
   ],
   "source": [
    "import torch\n",
    "print(samples.shape)\n",
    "torch.save(samples, 'samples.pt')"
   ]
  },
  {
   "cell_type": "code",
   "execution_count": null,
   "id": "boxed-ability",
   "metadata": {},
   "outputs": [],
   "source": []
  }
 ],
 "metadata": {
  "kernelspec": {
   "display_name": "Python 3",
   "language": "python",
   "name": "python3"
  },
  "language_info": {
   "codemirror_mode": {
    "name": "ipython",
    "version": 3
   },
   "file_extension": ".py",
   "mimetype": "text/x-python",
   "name": "python",
   "nbconvert_exporter": "python",
   "pygments_lexer": "ipython3",
   "version": "3.9.2"
  }
 },
 "nbformat": 4,
 "nbformat_minor": 5
}

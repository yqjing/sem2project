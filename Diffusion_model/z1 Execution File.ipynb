{
 "cells": [
  {
   "cell_type": "code",
   "execution_count": null,
   "id": "polish-picking",
   "metadata": {
    "tags": []
   },
   "outputs": [],
   "source": [
    "!CUDA_VISIBLE_DEVICES=0,1 python3 -m torch.distributed.launch --nproc_per_node=2 main_5_c.py"
   ]
  },
  {
   "cell_type": "markdown",
   "id": "sized-nature",
   "metadata": {},
   "source": [
    "# Reminders\n",
    "1. Change Loss log to every epoch, further work on Loss plot\n",
    "2. Sampling: The CIFAR10 takes 3.430277 hours to sample 10_000 images, average 1.2349 seconds per images, 158.06 s per batch. \n",
    "3. Training: Average 3.9 iterations per second, 0.015 hours per epoch. \n"
   ]
  },
  {
   "cell_type": "markdown",
   "id": "entitled-qualification",
   "metadata": {
    "jupyter": {
     "source_hidden": true
    },
    "tags": []
   },
   "source": [
    "# Time Log:\n",
    "###### training_plus_sampling_time:  47202.948095321655  seconds\n",
    "###### sampling_time:  34.167757749557495  seconds\n"
   ]
  },
  {
   "cell_type": "markdown",
   "id": "latter-giant",
   "metadata": {},
   "source": [
    "158 seconds , 128 batch images\n",
    "17 seconds, 256 images, "
   ]
  },
  {
   "cell_type": "markdown",
   "id": "exempt-antibody",
   "metadata": {},
   "source": [
    "# Tasks\n",
    "1. Loss plot of MNIST, as simple as possible. \n",
    "Solution: pertube the data of cifar10, and shift the value to 0.0002. \n",
    "2. Sample 16 images, compare it to 16 true images, change the background"
   ]
  }
 ],
 "metadata": {
  "kernelspec": {
   "display_name": "Python 3",
   "language": "python",
   "name": "python3"
  },
  "language_info": {
   "codemirror_mode": {
    "name": "ipython",
    "version": 3
   },
   "file_extension": ".py",
   "mimetype": "text/x-python",
   "name": "python",
   "nbconvert_exporter": "python",
   "pygments_lexer": "ipython3",
   "version": "3.9.2"
  }
 },
 "nbformat": 4,
 "nbformat_minor": 5
}

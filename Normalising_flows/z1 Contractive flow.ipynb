{
 "cells": [
  {
   "cell_type": "code",
   "execution_count": null,
   "id": "representative-domestic",
   "metadata": {},
   "outputs": [],
   "source": [
    "!git clone https://github.com/rtqichen/residual-flows.git"
   ]
  },
  {
   "cell_type": "code",
   "execution_count": null,
   "id": "handmade-advocate",
   "metadata": {},
   "outputs": [],
   "source": [
    "import torch\n",
    "\n",
    "imgs = torch.load('images.pt')\n",
    "print(imgs.shape)\n",
    "print(torch.min(imgs))\n",
    "\n",
    "# import matplotlib.pyplot as plt\n",
    "# import numpy as np\n",
    "# import torch\n",
    "\n",
    "# x = torch.load('images.pt')\n",
    "# x = x.cpu()\n",
    "# x = x.numpy()\n",
    "# print('gen_shape:',x.shape)\n",
    "# fig_size = int(np.sqrt(len(x)))\n",
    "\n",
    "# fig, axs = plt.subplots(fig_size, fig_size, figsize=(10, 10))\n",
    "# for i in range(len(x)):\n",
    "#     row, col = divmod(i, fig_size)\n",
    "#     axs[row][col].imshow(x[i, 0])\n",
    "#     axs[row][col].axis('off')\n",
    "# # plt.savefig('gen_samples.png')\n",
    "# plt.show()\n",
    "# # os.remove('samples.pt')\n",
    "\n",
    "import matplotlib.pyplot as plt\n",
    "import numpy as np\n",
    "import torch\n",
    "import torchvision\n",
    "\n",
    "tensor = torch.load('images.pt')\n",
    "print('gen_shape:', tensor.shape)\n",
    "N = tensor.size(0)\n",
    "\n",
    "# Create a grid of images from the tensor\n",
    "grid = torchvision.utils.make_grid(tensor, nrow=int(N**(0.5)), padding=1, normalize=True, pad_value=1.0, scale_each=True)\n",
    "\n",
    "# Convert the grid to a numpy array and transpose the dimensions to match the expected format by matplotlib\n",
    "grid = grid.cpu().numpy().transpose((1, 2, 0))\n",
    "\n",
    "# Show the grid of images using matplotlib\n",
    "plt.figure(figsize = (15, 15))\n",
    "plt.imshow(grid, aspect=1)\n",
    "plt.axis('off')\n",
    "# plt.savefig('gen_samples.png', dpi=300, bbox_inches='tight', pad_inches=0.1)\n",
    "plt.show()\n"
   ]
  },
  {
   "cell_type": "markdown",
   "id": "diagnostic-directive",
   "metadata": {},
   "source": [
    "# Training CIFAR10"
   ]
  },
  {
   "cell_type": "code",
   "execution_count": null,
   "id": "guided-grant",
   "metadata": {},
   "outputs": [],
   "source": [
    "!python3 residual-flows/train_img.py --data cifar10 --resume cifar10_resflow_16-16-16.pth --actnorm True --save experiments/cifar10"
   ]
  },
  {
   "cell_type": "code",
   "execution_count": null,
   "id": "subsequent-range",
   "metadata": {},
   "outputs": [],
   "source": [
    "!python3 residual-flows/train_img.py --data cifar10 --resume cifar10_resflow_16-16-16.pth --actnorm True --save experiments/cifar10"
   ]
  },
  {
   "cell_type": "markdown",
   "id": "alpha-orchestra",
   "metadata": {},
   "source": [
    "# Training MNIST"
   ]
  },
  {
   "cell_type": "code",
   "execution_count": null,
   "id": "conditional-warren",
   "metadata": {},
   "outputs": [],
   "source": [
    "!python3 residual-flows/train_img.py --data mnist --imagesize 28 --resume mnist_resflow_16-16-16.pth --actnorm True --wd 0 --save experiments/mnist"
   ]
  },
  {
   "cell_type": "code",
   "execution_count": null,
   "id": "fatty-disability",
   "metadata": {},
   "outputs": [],
   "source": [
    "!python3 residual-flows/train_img.py --data mnist --imagesize 28 --resume mnist_resflow_16-16-16.pth --actnorm True --wd 0 --nepochs 1 --begin-epoch 0 --save experiments/mnist"
   ]
  },
  {
   "cell_type": "markdown",
   "id": "loved-lindsay",
   "metadata": {},
   "source": [
    "# *For all the available configurations "
   ]
  },
  {
   "cell_type": "code",
   "execution_count": null,
   "id": "horizontal-reason",
   "metadata": {},
   "outputs": [],
   "source": [
    "!python3 residual-flows/train_img.py --data jiba"
   ]
  },
  {
   "cell_type": "code",
   "execution_count": null,
   "id": "ignored-elite",
   "metadata": {},
   "outputs": [],
   "source": []
  }
 ],
 "metadata": {
  "kernelspec": {
   "display_name": "Python 3",
   "language": "python",
   "name": "python3"
  },
  "language_info": {
   "codemirror_mode": {
    "name": "ipython",
    "version": 3
   },
   "file_extension": ".py",
   "mimetype": "text/x-python",
   "name": "python",
   "nbconvert_exporter": "python",
   "pygments_lexer": "ipython3",
   "version": "3.9.2"
  }
 },
 "nbformat": 4,
 "nbformat_minor": 5
}

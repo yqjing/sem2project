{
 "cells": [
  {
   "cell_type": "markdown",
   "id": "liberal-syracuse",
   "metadata": {},
   "source": [
    "# Number of parameters"
   ]
  },
  {
   "cell_type": "markdown",
   "id": "constant-parker",
   "metadata": {},
   "source": [
    "# Time steps T for flow model"
   ]
  },
  {
   "cell_type": "markdown",
   "id": "attempted-programming",
   "metadata": {},
   "source": [
    "NF\n",
    "198 activation layers;\n",
    "48 residual blocks;\n",
    "128 base channel;\n",
    "DM\n",
    "16 residual blocks;\n",
    "64 base channel; multiplier, [1, 2, 2, 4] \n",
    "\n",
    "%  State in the results\n",
    "%  Converges in 300-400 epochs, so we train it for 500 epochs, 1908.01 seconds, 31.08 min to train for one epoch. Theoretically, it will take 259 hours, which is approx 11 days. \n",
    "\n",
    "%  Converges in 100-150 epochs, we also train it for 500 epochs, which takes around 8 hours.  \n",
    "3.5 for 64 batch size. \n",
    "60000/64\n"
   ]
  },
  {
   "cell_type": "code",
   "execution_count": 3,
   "id": "improving-writer",
   "metadata": {},
   "outputs": [
    {
     "data": {
      "text/plain": [
       "781.25"
      ]
     },
     "execution_count": 3,
     "metadata": {},
     "output_type": "execute_result"
    }
   ],
   "source": [
    "50000/64"
   ]
  },
  {
   "cell_type": "markdown",
   "id": "electoral-draft",
   "metadata": {},
   "source": [
    "16million for mnist, \n",
    "25million for cifar10.\n",
    "\n",
    "5.7m for mnist,\n",
    "8.9m for cifar10. "
   ]
  },
  {
   "cell_type": "code",
   "execution_count": null,
   "id": "royal-patent",
   "metadata": {},
   "outputs": [],
   "source": [
    "nepochs=1000 n_samples=16"
   ]
  },
  {
   "cell_type": "markdown",
   "id": "measured-cooler",
   "metadata": {},
   "source": [
    "# Sampling time for flow model"
   ]
  },
  {
   "cell_type": "markdown",
   "id": "closed-bundle",
   "metadata": {},
   "source": [
    "1.53 seconds for 200 images. \n",
    "0.765 seconds for one batch size of 128 images. "
   ]
  },
  {
   "cell_type": "markdown",
   "id": "built-passion",
   "metadata": {},
   "source": [
    "# Training time for flow model"
   ]
  },
  {
   "cell_type": "markdown",
   "id": "conceptual-deposit",
   "metadata": {},
   "source": [
    "NF\n",
    "Batch size: 64\n",
    "\n",
    "DM\n",
    "Batch size: 128\n"
   ]
  },
  {
   "cell_type": "markdown",
   "id": "coastal-roommate",
   "metadata": {},
   "source": [
    "-- s / epochs, -- iterations / second, total training time -- for 500 epoches. "
   ]
  },
  {
   "cell_type": "markdown",
   "id": "polish-valuable",
   "metadata": {},
   "source": [
    "# Loss Log for flow model"
   ]
  },
  {
   "cell_type": "code",
   "execution_count": null,
   "id": "equipped-uniform",
   "metadata": {},
   "outputs": [],
   "source": []
  },
  {
   "cell_type": "code",
   "execution_count": 1,
   "id": "naked-beach",
   "metadata": {},
   "outputs": [
    {
     "name": "stdout",
     "output_type": "stream",
     "text": [
      "['/home/research/yuqijing/sem2project/Flow/residual-flows/lib/layers/base', '/usr/lib/python39.zip', '/usr/lib/python3.9', '/usr/lib/python3.9/lib-dynload', '', '/home/research/yuqijing/.local/lib/python3.9/site-packages', '/usr/local/lib/python3.9/dist-packages', '/usr/lib/python3/dist-packages', '/usr/lib/python3/dist-packages/IPython/extensions', '/home/research/yuqijing/.ipython']\n"
     ]
    }
   ],
   "source": [
    "import sys\n",
    "\n",
    "print(sys.path)"
   ]
  },
  {
   "cell_type": "code",
   "execution_count": null,
   "id": "empty-punishment",
   "metadata": {},
   "outputs": [],
   "source": []
  },
  {
   "cell_type": "code",
   "execution_count": null,
   "id": "damaged-johnson",
   "metadata": {},
   "outputs": [],
   "source": []
  }
 ],
 "metadata": {
  "kernelspec": {
   "display_name": "Python 3",
   "language": "python",
   "name": "python3"
  },
  "language_info": {
   "codemirror_mode": {
    "name": "ipython",
    "version": 3
   },
   "file_extension": ".py",
   "mimetype": "text/x-python",
   "name": "python",
   "nbconvert_exporter": "python",
   "pygments_lexer": "ipython3",
   "version": "3.9.2"
  }
 },
 "nbformat": 4,
 "nbformat_minor": 5
}

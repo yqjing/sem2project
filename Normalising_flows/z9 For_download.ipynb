{
 "cells": [
  {
   "cell_type": "code",
   "execution_count": null,
   "id": "coral-patrick",
   "metadata": {},
   "outputs": [
    {
     "name": "stdout",
     "output_type": "stream",
     "text": [
      "DenoisingDiffusionModel.py\n",
      "FID_statistics/\n",
      "FID_statistics/.ipynb_checkpoints/\n",
      "FID_statistics/dataset.pt\n",
      "FID_statistics/data_small.pt\n",
      "FID_statistics/statistics_c.npz\n",
      "FID_statistics/samples_10000_c.pt\n",
      "Ipython Files/\n",
      "Ipython Files/Training.ipynb\n",
      "Ipython Files/Embedding.png\n",
      "Ipython Files/Visualisation_m.ipynb\n",
      "Ipython Files/.ipynb_checkpoints/\n",
      "Ipython Files/.ipynb_checkpoints/DenoisingDiffusionModel-checkpoint.ipynb\n",
      "Ipython Files/.ipynb_checkpoints/Visualisation_m-checkpoint.ipynb\n",
      "Ipython Files/.ipynb_checkpoints/Embedding-checkpoint.png\n",
      "Ipython Files/.ipynb_checkpoints/Training-checkpoint.ipynb\n",
      "Ipython Files/.ipynb_checkpoints/GPU parallelisation-checkpoint.ipynb\n",
      "Ipython Files/.ipynb_checkpoints/U-Net Design-checkpoint.ipynb\n",
      "Ipython Files/GPU parallelisation.ipynb\n",
      "Ipython Files/U-Net Design.ipynb\n",
      "Ipython Files/DenoisingDiffusionModel.ipynb\n",
      "LossLog/\n",
      "LossLog/LossI_500.npy\n",
      "LossLog/LossI_500_1000.npy\n",
      "LossLog/LossE_500.npy\n",
      "LossLog/.ipynb_checkpoints/\n",
      "Mains/\n",
      "Mains/main_1.py\n",
      "Mains/main_2.py\n",
      "Mains/main_3.py\n",
      "Mains/main_4.py\n",
      "Mains/main.py\n",
      "Mains/.ipynb_checkpoints/\n",
      "Mains/.ipynb_checkpoints/main_2-checkpoint.py\n",
      "Mains/.ipynb_checkpoints/main_4-checkpoint.py\n",
      "Mains/.ipynb_checkpoints/main_6_c_s-checkpoint.py\n",
      "Mains/.ipynb_checkpoints/main_3-checkpoint.py\n",
      "Mains/.ipynb_checkpoints/main-checkpoint.py\n",
      "Mains/.ipynb_checkpoints/main_1-checkpoint.py\n",
      "Mains/.ipynb_checkpoints/main_4_S-checkpoint.py\n",
      "Mains/main_4_S.py\n",
      "Mains/main_6_c_s.py\n",
      "Parameters/\n",
      "Parameters/CIFAR10_200.pkl\n",
      "Parameters/model_parameters_1.txt\n",
      "Parameters/MNIST_1100.pkl\n",
      "Parameters/model_parameters.txt\n",
      "Parameters/MNIST_1500.pkl\n",
      "Parameters/MNIST_600.pkl\n",
      "Parameters/.ipynb_checkpoints/\n",
      "Parameters/.ipynb_checkpoints/model_parameters_1-checkpoint.txt\n",
      "Parameters/MNIST_100.pkl\n",
      "Parameters/CIFAR10_500.pkl\n"
     ]
    }
   ],
   "source": [
    "!tar chvfz notebook.tar.gz *"
   ]
  },
  {
   "cell_type": "code",
   "execution_count": null,
   "id": "operational-anchor",
   "metadata": {},
   "outputs": [],
   "source": []
  }
 ],
 "metadata": {
  "kernelspec": {
   "display_name": "Python 3",
   "language": "python",
   "name": "python3"
  },
  "language_info": {
   "codemirror_mode": {
    "name": "ipython",
    "version": 3
   },
   "file_extension": ".py",
   "mimetype": "text/x-python",
   "name": "python",
   "nbconvert_exporter": "python",
   "pygments_lexer": "ipython3",
   "version": "3.9.2"
  }
 },
 "nbformat": 4,
 "nbformat_minor": 5
}

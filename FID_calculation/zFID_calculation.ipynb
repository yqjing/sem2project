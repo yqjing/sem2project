{
 "cells": [
  {
   "cell_type": "code",
   "execution_count": null,
   "id": "printable-praise",
   "metadata": {
    "jupyter": {
     "source_hidden": true
    },
    "tags": []
   },
   "outputs": [],
   "source": [
    "!python3 dataset_tool.py --source=downloads/cifar10/cifar-10-python.tar.gz \\\n",
    "    --dest=datasets/cifar10-32x32.zip"
   ]
  },
  {
   "cell_type": "code",
   "execution_count": null,
   "id": "neural-impact",
   "metadata": {
    "jupyter": {
     "source_hidden": true
    },
    "tags": []
   },
   "outputs": [],
   "source": [
    "# !pip3 install click\n",
    "!pip install Pillow==9.1.0"
   ]
  },
  {
   "cell_type": "code",
   "execution_count": null,
   "id": "assisted-academy",
   "metadata": {
    "jupyter": {
     "source_hidden": true
    },
    "tags": []
   },
   "outputs": [],
   "source": [
    "!python3 fid.py ref --data=datasets/cifar10-32x32.zip --dest=fid-refs/cifar10-32x32.npz"
   ]
  },
  {
   "cell_type": "code",
   "execution_count": null,
   "id": "common-composite",
   "metadata": {
    "jupyter": {
     "source_hidden": true
    },
    "tags": []
   },
   "outputs": [],
   "source": [
    "!torchrun --standalone --nproc_per_node=1 fid.py calc --images=fid-refs/cifar10-32x32.npz --ref=fid-refs/cifar10-32x32.npz --num 10000 "
   ]
  },
  {
   "cell_type": "code",
   "execution_count": null,
   "id": "according-cylinder",
   "metadata": {
    "jupyter": {
     "source_hidden": true
    },
    "tags": []
   },
   "outputs": [],
   "source": [
    "!pip3 install pytorch-fid"
   ]
  },
  {
   "cell_type": "markdown",
   "id": "catholic-collect",
   "metadata": {},
   "source": [
    "# Calculate the FID for the batchs of images for MNIST\n"
   ]
  },
  {
   "cell_type": "code",
   "execution_count": null,
   "id": "impressed-idaho",
   "metadata": {},
   "outputs": [],
   "source": [
    "!python3 -m pytorch_fid images_gen images_true\n",
    "# Diffusion model\n",
    "# FID between MNIST generated and CIFAR10 true images: 327.7857\n",
    "# FID between MNIST generated and MNIST true images: 12.61705\n",
    "# IS between MNIST true and MNIST generated: \n",
    "\n",
    "# Normalising flow\n",
    "# FID between MNIST generated and MNIST true images: 20.55123"
   ]
  },
  {
   "cell_type": "code",
   "execution_count": null,
   "id": "dress-scoop",
   "metadata": {},
   "outputs": [],
   "source": [
    "!python3 -m pytorch_fid --save-stats path/to/dataset path/to/outputfile"
   ]
  },
  {
   "cell_type": "code",
   "execution_count": null,
   "id": "public-venue",
   "metadata": {},
   "outputs": [],
   "source": [
    "!pip3 install pytorch-gan-metrics"
   ]
  },
  {
   "cell_type": "code",
   "execution_count": null,
   "id": "friendly-negative",
   "metadata": {},
   "outputs": [],
   "source": [
    "from pytorch_gan_metrics import get_inception_score, get_fid\n",
    "\n",
    "images = ... # [N, 3, H, W] normalized to [0, 1]\n",
    "IS, IS_std = get_inception_score(images)        # Inception Score"
   ]
  }
 ],
 "metadata": {
  "kernelspec": {
   "display_name": "Python 3",
   "language": "python",
   "name": "python3"
  },
  "language_info": {
   "codemirror_mode": {
    "name": "ipython",
    "version": 3
   },
   "file_extension": ".py",
   "mimetype": "text/x-python",
   "name": "python",
   "nbconvert_exporter": "python",
   "pygments_lexer": "ipython3",
   "version": "3.9.2"
  }
 },
 "nbformat": 4,
 "nbformat_minor": 5
}
